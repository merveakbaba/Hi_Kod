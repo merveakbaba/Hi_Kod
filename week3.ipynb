{
 "cells": [
  {
   "cell_type": "code",
   "execution_count": 1,
   "id": "1cc27b6b-50ba-4781-a64e-5bb70b607e3d",
   "metadata": {},
   "outputs": [
    {
     "name": "stdout",
     "output_type": "stream",
     "text": [
      "1.23456 <class 'str'>\n",
      "1.23456 <class 'float'>\n",
      "1 <class 'int'>\n",
      "1 <class 'str'>\n"
     ]
    }
   ],
   "source": [
    "#Ödev-1: Değişkenlere atanmış değerlerin veri tipleri arasında dönüşüm yapılır.\n",
    "string_ifade =\"1.23456\"\n",
    "float_ifade = float(string_ifade)\n",
    "sayi = int(float_ifade)\n",
    "string_ifade2 = str(sayi)\n",
    "\n",
    "print(string_ifade, type(string_ifade))\n",
    "print(float_ifade, type(float_ifade))\n",
    "print(sayi, type(sayi))\n",
    "print(string_ifade2, type(string_ifade2))\n"
   ]
  },
  {
   "cell_type": "code",
   "execution_count": 2,
   "id": "bb2d7717-c81d-4af7-9ceb-d3bc9a7c323b",
   "metadata": {},
   "outputs": [
    {
     "name": "stdout",
     "output_type": "stream",
     "text": [
      "Merve Nisa'dan küçük mü? True\n",
      "Nisa Ubeyt'ten büyük mü? True\n",
      "Merve ve Ubeyt aynı yaşta mı? False\n",
      "Merve Nisa'dan küçük ve Ubeyt'ten büyük mü? True\n",
      "Nisa Ubeyt'ten küçük veya Merve ile aynı yaşta mı? False\n",
      "Nisa'nın yaşı Ubeyt'in yaşına eşit değil mi? True\n"
     ]
    }
   ],
   "source": [
    "#Ödev-2: İsimlerden oluşan üç değişkene yaş değerleri atanır. Belirlenen üç değişken birbiriyle karşılaştırma operatörleri ile karşılaştırılır.\n",
    "#Bu karşılaştırmalara mantıksal operatörler de eklenir.\n",
    "merve = 25\n",
    "nisa = 30\n",
    "ubeyt = 22\n",
    "print(\"Merve Nisa'dan küçük mü?\", merve < nisa)\n",
    "print(\"Nisa Ubeyt'ten büyük mü?\", nisa > ubeyt)\n",
    "print(\"Merve ve Ubeyt aynı yaşta mı?\", merve == ubeyt)\n",
    "print(\"Merve Nisa'dan küçük ve Ubeyt'ten büyük mü?\", merve < nisa and merve > ubeyt)\n",
    "print(\"Nisa Ubeyt'ten küçük veya Merve ile aynı yaşta mı?\", nisa < ubeyt or merve == ubeyt)\n",
    "print(\"Nisa'nın yaşı Ubeyt'in yaşına eşit değil mi?\", not nisa == ubeyt)"
   ]
  },
  {
   "cell_type": "code",
   "execution_count": 5,
   "id": "9e9c5a5d-06a1-4021-99af-428fa04ee61b",
   "metadata": {},
   "outputs": [
    {
     "name": "stdin",
     "output_type": "stream",
     "text": [
      "Birinci sayıyı giriniz:  5\n",
      "İkinci sayıyı giriniz:  4\n"
     ]
    },
    {
     "name": "stdout",
     "output_type": "stream",
     "text": [
      "Toplama: 9.0\n",
      "Çıkarma: 1.0\n",
      "Çarpma: 20.0\n",
      "Bölme: 1.25\n",
      "9.0 1.0 20.0 1.25\n"
     ]
    }
   ],
   "source": [
    "#Ödev-3: Kullanıcıdan iki değer girmesini istenir. Girilen değerlerin toplama, çıkarma, çarpma, bölme sonuçlarını yazdırılır.\n",
    "sayi1 = float(input(\"Birinci sayıyı giriniz: \"))\n",
    "sayi2 = float(input(\"İkinci sayıyı giriniz: \"))\n",
    "toplama = sayi1 + sayi2\n",
    "cikarma = sayi1 - sayi2\n",
    "carpma = sayi1 * sayi2\n",
    "if sayi2 != 0:\n",
    "    bolme = sayi1 / sayi2\n",
    "else:\n",
    "    bolme = \"Bölme işlemi için sıfırdan farklı bir sayı giriniz\"\n",
    "print(\"Toplama:\", toplama)\n",
    "print(\"Çıkarma:\", cikarma)\n",
    "print(\"Çarpma:\", carpma)\n",
    "print(\"Bölme:\", bolme)\n",
    "print(toplama, cikarma, carpma, bolme)"
   ]
  },
  {
   "cell_type": "code",
   "execution_count": 7,
   "id": "c626dbbc-8693-4ee7-b532-45c007721db9",
   "metadata": {},
   "outputs": [
    {
     "name": "stdin",
     "output_type": "stream",
     "text": [
      "isminizi giriniz  merve\n",
      "Soyadınızı giriniz  akbaba\n",
      "Yaşınızı giriniz 23\n",
      "Memleketinizi giriniz konya\n",
      "Mesleğinizi giriniz mühendis\n"
     ]
    },
    {
     "name": "stdout",
     "output_type": "stream",
     "text": [
      "\n",
      "isminiz: merve akbaba, Yaşınız: 23, Memleketiniz: konya, Mesleğiniz: mühendis\n"
     ]
    }
   ],
   "source": [
    "#Ödev-4: Kullanıcıdan isim, yaş, şehir ve meslek bilgilerini istenir ve cevaplarını yazdırılır.\n",
    "isim = input(\"isminizi giriniz \")\n",
    "soyad = input(\"Soyadınızı giriniz \")\n",
    "yasi = input(\"Yaşınızı giriniz\")\n",
    "memleket = input(\"Memleketinizi giriniz\")\n",
    "meslek = input(\"Mesleğinizi giriniz\")\n",
    "print(f\"\\nisminiz: {isim} {soyad}, Yaşınız: {yasi}, Memleketiniz: {memleket}, Mesleğiniz: {meslek}\")"
   ]
  },
  {
   "cell_type": "code",
   "execution_count": 8,
   "id": "b746b0a3-53ab-4dc3-9b06-058fd5ba8d92",
   "metadata": {},
   "outputs": [
    {
     "name": "stdout",
     "output_type": "stream",
     "text": [
      "1. Kelime: Hi-Kod\n",
      "2. Kelime: Veri\n",
      "3. Kelime: Bilimi\n",
      "4. Kelime: Atölyesi\n",
      "\n",
      "Büyük harf: HI-KOD VERI BILIMI ATÖLYESI\n",
      "Küçük harf: hi-kod veri bilimi atölyesi\n"
     ]
    }
   ],
   "source": [
    "\"\"\" \"Hi-Kod Veri Bilimi Atölyesi\" ifadesini bir değişkene tanımlanır.\n",
    "\n",
    "İfadedeki her bir kelimeyi (\"Hi-Kod\", \"Veri\", \"Bilimi\", \"Atölyesi\") değişken içinden seçilir.\n",
    "\n",
    "İfadeyi hepsini büyük harf olacak hale çevrilir. (\"HI-KOD VERİ BİLİMİ ATÖLYESİ\")\n",
    "\n",
    "İfadeyi hepsini büyük harf olacak hale çevrilir.(\"hi-kod veri bilimi atölyesi\")\"\"\"\n",
    "\n",
    "ifade = \"Hi-Kod Veri Bilimi Atölyesi\"\n",
    "kelimeler = ifade.split()\n",
    "print(\"1. Kelime:\", kelimeler[0])\n",
    "print(\"2. Kelime:\", kelimeler[1])\n",
    "print(\"3. Kelime:\", kelimeler[2])\n",
    "print(\"4. Kelime:\", kelimeler[3])\n",
    "buyuk_harf = ifade.upper()\n",
    "kucuk_harf = ifade.lower()\n",
    "print(\"\\nBüyük harf:\", buyuk_harf)\n",
    "print(\"Küçük harf:\", kucuk_harf)"
   ]
  },
  {
   "cell_type": "code",
   "execution_count": 9,
   "id": "4eb067b1-9e38-4d08-90eb-0cb4350464fc",
   "metadata": {},
   "outputs": [
    {
     "name": "stdout",
     "output_type": "stream",
     "text": [
      "Çift Sayılar: 02468\n",
      "Tek Sayılar: 13579\n"
     ]
    }
   ],
   "source": [
    "#\"0123456789\" ifadesindeki yalnızca çift sayıları ve yalnızca tek sayıları seçilir. (\"02468\", \"13579\")\n",
    "sayilar = \"0123456789\"\n",
    "cift_sayilar = \"\"\n",
    "tek_sayilar = \"\"\n",
    "for sayi in sayilar:\n",
    "    if int(sayi) % 2 == 0:\n",
    "        cift_sayilar += sayi\n",
    "    else:\n",
    "        tek_sayilar += sayi\n",
    "print(\"Çift Sayılar:\", cift_sayilar)\n",
    "print(\"Tek Sayılar:\", tek_sayilar)"
   ]
  },
  {
   "cell_type": "code",
   "execution_count": null,
   "id": "61e66e7e-1fdf-4433-9524-60b4a03d890d",
   "metadata": {},
   "outputs": [],
   "source": []
  }
 ],
 "metadata": {
  "kernelspec": {
   "display_name": "Python 3 (ipykernel)",
   "language": "python",
   "name": "python3"
  },
  "language_info": {
   "codemirror_mode": {
    "name": "ipython",
    "version": 3
   },
   "file_extension": ".py",
   "mimetype": "text/x-python",
   "name": "python",
   "nbconvert_exporter": "python",
   "pygments_lexer": "ipython3",
   "version": "3.12.7"
  }
 },
 "nbformat": 4,
 "nbformat_minor": 5
}
