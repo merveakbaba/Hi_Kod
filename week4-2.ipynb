{
 "cells": [
  {
   "cell_type": "code",
   "execution_count": 2,
   "id": "b27804d9-353a-443a-b459-d6b1c6b6b73c",
   "metadata": {},
   "outputs": [
    {
     "name": "stdin",
     "output_type": "stream",
     "text": [
      "Pi değerini girin 12\n",
      "Yarıçapı girin:  1\n"
     ]
    },
    {
     "name": "stdout",
     "output_type": "stream",
     "text": [
      "Dairenin alanı: 12.0\n"
     ]
    }
   ],
   "source": [
    "#Kullanıcıdan pi değeri ve yarıçap bilgisi alarak dairenin alanını hesaplayan bir fonksiyon oluşturulur.\n",
    "def hesapla():\n",
    "    pi = float(input(\"Pi değerini girin\"))\n",
    "    yaricap = float(input(\"Yarıçapı girin: \"))\n",
    "    \n",
    "    alan = pi * (yaricap**2)# burda üs almak için ^ kullandım ama hata aldım .pythonda üs için ** kullanılıyormuş\n",
    "    \n",
    "    print(\"Dairenin alanı:\", alan)\n",
    "hesapla()"
   ]
  },
  {
   "cell_type": "code",
   "execution_count": 5,
   "id": "ee69c39e-5dde-48a6-bc38-85127b7a6120",
   "metadata": {},
   "outputs": [
    {
     "name": "stdin",
     "output_type": "stream",
     "text": [
      "sayıyı girin:  3\n"
     ]
    },
    {
     "name": "stdout",
     "output_type": "stream",
     "text": [
      "Faktöriyel(3) = 6\n"
     ]
    }
   ],
   "source": [
    "\"\"\"Faktöriyel adında fonksiyon oluşturulur. Döngü kullanarak parametre olarak\n",
    "#girilen sayının faktöriyeli hesaplanır.Format metodunu kullanılarak ekrana yazdırılır.\"\"\"\n",
    "\n",
    "def faktoriyel(sayi):\n",
    "    deger = 1\n",
    "    for i in range(1, sayi + 1):\n",
    "        deger*= i\n",
    "    print(\"Faktöriyel({}) = {}\".format(sayi,deger))\n",
    "sayi = int(input(\"sayıyı girin: \"))\n",
    "faktoriyel(sayi)"
   ]
  },
  {
   "cell_type": "code",
   "execution_count": 7,
   "id": "f7a57a87-2eaa-4ad5-98b3-f3dfe237b455",
   "metadata": {},
   "outputs": [
    {
     "name": "stdin",
     "output_type": "stream",
     "text": [
      "Doğum yılınızı girin:  2001\n"
     ]
    },
    {
     "name": "stdout",
     "output_type": "stream",
     "text": [
      "Kişinin yaşı: 24\n"
     ]
    }
   ],
   "source": [
    "#Kişinin fonksiyona doğum yılını vererek kaç yaşında olduğunu hesaplayan bir fonksiyon oluşturun. \n",
    "def hesapla(dogum_yili):\n",
    "    return 2025 - dogum_yili\n",
    "dogum_yili = int(input(\"Doğum yılınızı girin: \"))\n",
    "yas = hesapla(dogum_yili)\n",
    "\n",
    "print(f\"Kişinin yaşı: {yas}\")"
   ]
  },
  {
   "cell_type": "code",
   "execution_count": null,
   "id": "0286c1c1-5740-413d-a27c-da930fa62d82",
   "metadata": {},
   "outputs": [],
   "source": [
    "\"\"\"Doğum yılı ve isim bilgisi verilen fonksiyon kişinin emekli olup olmadığını söylesin.(Kişi 65 yaşında ise emekli olur.)\n",
    "Burada yaş hesabını yukarıdaki örnekteki fonksiyonu kullanarak yapsın.(Yani fonksiyon içinde fonksiyon kullanmanızı istiyorum :))\n",
    "Kişi 65 yaşında ya da daha fazlaysa \"Emekli oldunuz\" yanıtını,\n",
    "65 yaşından küçükse emekliliğine kaç yıl kaldığını da hesaplayarak \"(isim) emekliliğine (yıl) kaldı.\" yanıtını versin.\"\"\"\n",
    "def hesapla(dogum_yili):\n",
    "    return 2025 - dogum_yili\n",
    "\n",
    "def emeklilik(isim, dogum_yili):\n",
    "    yas = hesapla(dogum_yili)\n",
    "\n",
    "    if yas >= 65:\n",
    "        return f\"{isim}, emekli oldunuz.\"\n",
    "    else:\n",
    "        kalan_yil = 65 - yas\n",
    "        return f\"{isim}, emekliliğinize {kalan_yil} yıl kaldı.\"\n",
    "\n",
    "isim = input(\"İsminizi girin\")\n",
    "dogum_yili = int(input(\"Doğum yılınızı girin\"))\n",
    "\n",
    "# Emeklilik durumu kontrolü\n",
    "print(emeklilik_durumu(isim, dogum_yili))"
   ]
  }
 ],
 "metadata": {
  "kernelspec": {
   "display_name": "Python 3 (ipykernel)",
   "language": "python",
   "name": "python3"
  },
  "language_info": {
   "codemirror_mode": {
    "name": "ipython",
    "version": 3
   },
   "file_extension": ".py",
   "mimetype": "text/x-python",
   "name": "python",
   "nbconvert_exporter": "python",
   "pygments_lexer": "ipython3",
   "version": "3.12.7"
  }
 },
 "nbformat": 4,
 "nbformat_minor": 5
}
