{
 "cells": [
  {
   "cell_type": "code",
   "execution_count": 9,
   "id": "0bac00e0-74c6-41d1-a02c-00e03ac2d16d",
   "metadata": {},
   "outputs": [
    {
     "name": "stdin",
     "output_type": "stream",
     "text": [
      "Lütfen maaşınızı girin 1000\n"
     ]
    },
    {
     "name": "stdout",
     "output_type": "stream",
     "text": [
      "son maasınız:950.0\n"
     ]
    }
   ],
   "source": [
    "\"\"\"Kullanıcıdan maaş bilgisini istenir ve bu bilgiye göre maaşından ne kadar vergi kesileceğini hesaplanır. Kullanıcının geliri;\n",
    "\n",
    "10000 ve altındaysa maaşından %5 kesinti olur.\n",
    "\n",
    "25000 ve altındaysa maaşından %10 kesinti olur.\n",
    "\n",
    "45000 ve altındaysa maaşından %25 kesinti olur.\n",
    "\n",
    "Diğer koşullarda %30 kesinti olur.\n",
    "\n",
    "Bu durumlara göre kullanıcının yeni maaşı yazdırılır \"\"\"\n",
    "\n",
    "def vergi_hesaplam():\n",
    "    try:\n",
    "        maas = float(input(\"Lütfen maaşınızı girin\"))\n",
    "        \n",
    "        if maas <= 10000:\n",
    "            vergi_orani = 0.05\n",
    "        elif maas <= 25000:\n",
    "            vergi_orani = 0.10\n",
    "        elif maas <= 45000:\n",
    "            vergi_orani = 0.25\n",
    "        else:\n",
    "            vergi_orani = 0.30\n",
    "            \n",
    "        kesinti = maas * vergi_orani\n",
    "        son_maas = maas - kesinti\n",
    "        \n",
    "        print(\"son maasınız:\"+str (son_maas))\n",
    "    except ValueError:\n",
    "        print(\"tekrar deneyin\")\n",
    "\n",
    "vergi_hesaplam()"
   ]
  },
  {
   "cell_type": "code",
   "execution_count": 11,
   "id": "270764d4-b05b-4161-ae00-a45bd18d715c",
   "metadata": {},
   "outputs": [
    {
     "name": "stdin",
     "output_type": "stream",
     "text": [
      "Kullanıcı adınızı girin merve\n",
      "sifrenizi girin rekwlfj\n"
     ]
    },
    {
     "name": "stdout",
     "output_type": "stream",
     "text": [
      "Kullanıcı adı ve şifre oluşturuldu\n"
     ]
    }
   ],
   "source": [
    "\"\"\"Kullanıcıdan kullanıcı adı ve şifre oluşturmasını istenir. \n",
    "Şifrenin uzunluğu altı haneye ulaşmışsa hesabınız oluşturuldu mesajı alınır,\n",
    "altı haneden azsa altı haneli şifre oluşturması gerektiğinin mesajı alınır. (Sadece koşul kullanılması yeterli.)\"\"\"\n",
    "def giris():\n",
    "    kullanici_adi = input(\"Kullanıcı adınızı girin\")\n",
    "    \n",
    "    sifre = input(\"sifrenizi girin\")\n",
    "    \n",
    "    if len(sifre) < 6:\n",
    "        print(\"Şifre en az 6 karakter olmalı\")\n",
    "    else:\n",
    "        print(\"Kullanıcı adı ve şifre oluşturuldu\")\n",
    "\n",
    "giris()\n"
   ]
  },
  {
   "cell_type": "code",
   "execution_count": 13,
   "id": "007577ae-51ea-49a5-bc50-6257cd0c6a57",
   "metadata": {},
   "outputs": [
    {
     "name": "stdin",
     "output_type": "stream",
     "text": [
      "Şifrenizi oluşturun ere\n"
     ]
    },
    {
     "name": "stdout",
     "output_type": "stream",
     "text": [
      "Lütfen girdiğiniz şifre 5 haneden az 10 haneden fazla olmasın!\n"
     ]
    },
    {
     "name": "stdin",
     "output_type": "stream",
     "text": [
      "Şifrenizi oluşturun ewr\n"
     ]
    },
    {
     "name": "stdout",
     "output_type": "stream",
     "text": [
      "Lütfen girdiğiniz şifre 5 haneden az 10 haneden fazla olmasın!\n"
     ]
    },
    {
     "name": "stdin",
     "output_type": "stream",
     "text": [
      "Şifrenizi oluşturun tre\n"
     ]
    },
    {
     "name": "stdout",
     "output_type": "stream",
     "text": [
      "Lütfen girdiğiniz şifre 5 haneden az 10 haneden fazla olmasın!\n"
     ]
    },
    {
     "name": "stdin",
     "output_type": "stream",
     "text": [
      "Şifrenizi oluşturun wetewyqw\n"
     ]
    },
    {
     "name": "stdout",
     "output_type": "stream",
     "text": [
      "Hesabınız oluşturuldu\n"
     ]
    }
   ],
   "source": [
    "\"\"\"Bir önceki örnek geliştirilir.\n",
    "\n",
    "Kullanıcı girdiği şifre 5 ve 10 hane arasında olmak zorunda.\n",
    "\n",
    "Eğer bu koşula uyuyorsa \"Hesabınız oluşturuldu.\" mesajı alır.\n",
    "\n",
    "Koşulu sağlamıyorsa \"Lütfen girdiniz şifre 5 haneden az 10 haneden fazla olmasın!\" uyarısı alır.\n",
    "\n",
    "Bunu oluştururken kullanıcı istediğimiz şartlarda şifre oluşturana kadar sormaya devam eder\"\"\"\n",
    "\n",
    "def sifre():\n",
    "    while True:\n",
    "        sifre = input(\"Şifrenizi oluşturun\")\n",
    "        \n",
    "        if 5 <= len(sifre) <= 10:\n",
    "            print(\"Hesabınız oluşturuldu\")\n",
    "            break\n",
    "        else:\n",
    "            print(\"Lütfen girdiğiniz şifre 5 haneden az 10 haneden fazla olmasın!\")\n",
    "\n",
    "sifre()"
   ]
  },
  {
   "cell_type": "code",
   "execution_count": null,
   "id": "c5d0bd40-2e14-4180-8a68-90c48f1ffaec",
   "metadata": {},
   "outputs": [
    {
     "name": "stdin",
     "output_type": "stream",
     "text": [
      "Lütfen yeni şifrenizi oluşturun:  merve\n"
     ]
    },
    {
     "name": "stdout",
     "output_type": "stream",
     "text": [
      "şifrenizi girin \n"
     ]
    },
    {
     "name": "stdin",
     "output_type": "stream",
     "text": [
      "Şifreyi girin:  aslı\n"
     ]
    },
    {
     "name": "stdout",
     "output_type": "stream",
     "text": [
      "Yanlış şifre girildi!\n",
      "Kalan hak: 2\n"
     ]
    }
   ],
   "source": [
    "\"\"\"Kullanıcıdan isim ve şifre isteyeceğiz ve şifre girişi için üç hak verilir.\n",
    "\n",
    "Eğer önceden tanımlı şifre ile kullanıcıdan gelen şifre aynıysa \"Giriş yapıldı.\" yazar.\n",
    "\n",
    "Şifre girişi yanlışsa \"Yanlış şifre girildi!\" uyarısı verilsin ve üç yanlış denemede program biter.\n",
    "\n",
    "Tercihe göre kalan hak bilgisi verilir.\"\"\"\n",
    "\n",
    "def sifre_hakki():\n",
    "    sifre = input(\"Lütfen yeni şifrenizi oluşturun: \")\n",
    "    hak = 3\n",
    "    \n",
    "    print(\"şifrenizi girin \")\n",
    "    \n",
    "    while hak > 0:\n",
    "        girilen = input(\"Şifreyi girin: \")\n",
    "        \n",
    "        if girilen== sifre:\n",
    "            print(\"Giriş yapıldı\")\n",
    "            return \n",
    "        else:\n",
    "            hak -= 1\n",
    "            print(\"Yanlış şifre girildi!\")\n",
    "            print(f\"Kalan hak: {hak}\")\n",
    "\n",
    "sifre_hakki()"
   ]
  },
  {
   "cell_type": "code",
   "execution_count": null,
   "id": "00b5502e-cd1e-49da-a405-34cf92f6cd82",
   "metadata": {},
   "outputs": [],
   "source": []
  }
 ],
 "metadata": {
  "kernelspec": {
   "display_name": "Python 3 (ipykernel)",
   "language": "python",
   "name": "python3"
  },
  "language_info": {
   "codemirror_mode": {
    "name": "ipython",
    "version": 3
   },
   "file_extension": ".py",
   "mimetype": "text/x-python",
   "name": "python",
   "nbconvert_exporter": "python",
   "pygments_lexer": "ipython3",
   "version": "3.12.7"
  }
 },
 "nbformat": 4,
 "nbformat_minor": 5
}
